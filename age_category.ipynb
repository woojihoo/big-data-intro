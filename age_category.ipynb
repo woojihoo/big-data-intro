{
 "cells": [
  {
   "cell_type": "code",
   "execution_count": 1,
   "id": "08b8f388-2b60-4347-a594-587d4628c394",
   "metadata": {},
   "outputs": [],
   "source": [
    "#[과제: udf 등록 및 SQL 처리]\n",
    "#UDF 함수명: age_category(age)\n",
    "#- age가 35살 미만: 'young'\n",
    "#- age가 35살-59살: 'adult'\n",
    "#- age가 60살 이상: 'senior'\n",
    "#데이터프레임\n",
    "#- 변수: name, age (예: '안현', 39)\n",
    "#- 데이터 5개~10개 생성 \n",
    "#SQL 출력 결과: name, age_category(age)\n"
   ]
  },
  {
   "cell_type": "code",
   "execution_count": 2,
   "id": "a369aa46-9cae-4714-b6e1-ab8b397cbe20",
   "metadata": {},
   "outputs": [],
   "source": [
    "from pyspark.sql import SparkSession\n",
    "from pyspark.sql.types import StringType\n",
    "spark = SparkSession.builder.master('local').appName('udf').getOrCreate()"
   ]
  },
  {
   "cell_type": "code",
   "execution_count": 3,
   "id": "5e059268-2e5a-4dcd-a244-6daf9833d6de",
   "metadata": {},
   "outputs": [],
   "source": [
    "age_data = [('우지호',22),('서진우',21),('김진우',26),\n",
    "            ('김 건',38),('실버팽',73),\n",
    "           ('강백호',45),('강 철',37),('임나은',30),\n",
    "            ('지연우',40),('서연우',23)]"
   ]
  },
  {
   "cell_type": "code",
   "execution_count": 4,
   "id": "840807ec-a1db-4d5b-80cf-efa60e348f06",
   "metadata": {},
   "outputs": [],
   "source": [
    "schema =['name','age']"
   ]
  },
  {
   "cell_type": "code",
   "execution_count": 5,
   "id": "84d98f2f-d51a-40c7-90a5-60f12e582f30",
   "metadata": {},
   "outputs": [],
   "source": [
    "df = spark.createDataFrame(age_data, schema)"
   ]
  },
  {
   "cell_type": "code",
   "execution_count": 6,
   "id": "8818e3ea-f73c-46e8-9fe4-c5413c3dea38",
   "metadata": {},
   "outputs": [],
   "source": [
    "df.createOrReplaceTempView('agacategory')"
   ]
  },
  {
   "cell_type": "code",
   "execution_count": 7,
   "id": "6160a11a-f4bb-4daf-9f7e-e5d778c32e56",
   "metadata": {},
   "outputs": [
    {
     "name": "stdout",
     "output_type": "stream",
     "text": [
      "+------+---+\n",
      "|  name|age|\n",
      "+------+---+\n",
      "|우지호| 22|\n",
      "|서진우| 21|\n",
      "|김진우| 26|\n",
      "| 김 건| 38|\n",
      "|실버팽| 73|\n",
      "|강백호| 45|\n",
      "| 강 철| 37|\n",
      "|임나은| 30|\n",
      "|지연우| 40|\n",
      "|서연우| 23|\n",
      "+------+---+\n",
      "\n"
     ]
    }
   ],
   "source": [
    "df.show()"
   ]
  },
  {
   "cell_type": "code",
   "execution_count": 8,
   "id": "ececf8cf-e983-4d89-b6fa-74ac3767c31e",
   "metadata": {},
   "outputs": [
    {
     "name": "stdout",
     "output_type": "stream",
     "text": [
      "root\n",
      " |-- name: string (nullable = true)\n",
      " |-- age: long (nullable = true)\n",
      "\n"
     ]
    }
   ],
   "source": [
    "df.printSchema()"
   ]
  },
  {
   "cell_type": "code",
   "execution_count": 9,
   "id": "c7a58d5b-73fc-46de-a0a4-829688904840",
   "metadata": {},
   "outputs": [],
   "source": [
    "\n",
    " def age_category(age):\n",
    "    if age < 35:\n",
    "        return 'young'\n",
    "    elif age >= 35 and age <= 59:\n",
    "        return 'adult'\n",
    "    else:\n",
    "        return 'senior'\n",
    "    "
   ]
  },
  {
   "cell_type": "code",
   "execution_count": 10,
   "id": "0dc18f4a-7cae-4000-aab8-4357b1acee14",
   "metadata": {},
   "outputs": [
    {
     "data": {
      "text/plain": [
       "<function __main__.age_category(age)>"
      ]
     },
     "execution_count": 10,
     "metadata": {},
     "output_type": "execute_result"
    }
   ],
   "source": [
    "spark.udf.register('age_category', age_category, StringType())"
   ]
  },
  {
   "cell_type": "code",
   "execution_count": 11,
   "id": "b20eeb62-321f-4051-82aa-70f748b85e99",
   "metadata": {},
   "outputs": [
    {
     "name": "stdout",
     "output_type": "stream",
     "text": [
      "+------+------------+\n",
      "|  name|age_category|\n",
      "+------+------------+\n",
      "|우지호|       young|\n",
      "|서진우|       young|\n",
      "|김진우|       young|\n",
      "| 김 건|       adult|\n",
      "|실버팽|      senior|\n",
      "|강백호|       adult|\n",
      "| 강 철|       adult|\n",
      "|임나은|       young|\n",
      "|지연우|       adult|\n",
      "|서연우|       young|\n",
      "+------+------------+\n",
      "\n"
     ]
    }
   ],
   "source": [
    "spark.sql(\"SELECT name, age_category(age) AS age_category FROM agacategory\").show()"
   ]
  }
 ],
 "metadata": {
  "kernelspec": {
   "display_name": "Python 3 (ipykernel)",
   "language": "python",
   "name": "python3"
  },
  "language_info": {
   "codemirror_mode": {
    "name": "ipython",
    "version": 3
   },
   "file_extension": ".py",
   "mimetype": "text/x-python",
   "name": "python",
   "nbconvert_exporter": "python",
   "pygments_lexer": "ipython3",
   "version": "3.9.13"
  }
 },
 "nbformat": 4,
 "nbformat_minor": 5
}
